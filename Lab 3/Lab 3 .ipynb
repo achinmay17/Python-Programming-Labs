{
 "cells": [
  {
   "cell_type": "markdown",
   "metadata": {},
   "source": [
    "# Python Statements"
   ]
  },
  {
   "cell_type": "markdown",
   "metadata": {},
   "source": [
    "## if, elif, else statements"
   ]
  },
  {
   "cell_type": "raw",
   "metadata": {},
   "source": [
    "if case1:\n",
    "    perform action1\n",
    "else if case2:\n",
    "    perform action2\n",
    "else:\n",
    "    perform action3"
   ]
  },
  {
   "cell_type": "code",
   "execution_count": 1,
   "metadata": {},
   "outputs": [
    {
     "name": "stdout",
     "output_type": "stream",
     "text": [
      "x is greater than 0\n"
     ]
    }
   ],
   "source": [
    "x = 5\n",
    "\n",
    "if x >= 0:\n",
    "    print ('x is greater than 0')"
   ]
  },
  {
   "cell_type": "code",
   "execution_count": 1,
   "metadata": {},
   "outputs": [
    {
     "name": "stdout",
     "output_type": "stream",
     "text": [
      "x is true\n"
     ]
    }
   ],
   "source": [
    "x = True\n",
    "\n",
    "if x==True:\n",
    "    print('x is true')\n",
    "else:\n",
    "    print('x is not true')"
   ]
  },
  {
   "cell_type": "code",
   "execution_count": 5,
   "metadata": {},
   "outputs": [
    {
     "name": "stdout",
     "output_type": "stream",
     "text": [
      "What is x?5\n"
     ]
    },
    {
     "ename": "TypeError",
     "evalue": "unorderable types: str() > int()",
     "output_type": "error",
     "traceback": [
      "\u001b[0;31m---------------------------------------------------------------------------\u001b[0m",
      "\u001b[0;31mTypeError\u001b[0m                                 Traceback (most recent call last)",
      "\u001b[0;32m<ipython-input-5-b578cb001c43>\u001b[0m in \u001b[0;36m<module>\u001b[0;34m()\u001b[0m\n\u001b[1;32m      3\u001b[0m \u001b[0mx\u001b[0m \u001b[1;33m=\u001b[0m \u001b[0minput\u001b[0m\u001b[1;33m(\u001b[0m\u001b[1;34m\"What is x?\"\u001b[0m\u001b[1;33m)\u001b[0m\u001b[1;33m\u001b[0m\u001b[0m\n\u001b[1;32m      4\u001b[0m \u001b[1;33m\u001b[0m\u001b[0m\n\u001b[0;32m----> 5\u001b[0;31m \u001b[1;32mif\u001b[0m \u001b[0mx\u001b[0m \u001b[1;33m>\u001b[0m \u001b[1;36m0\u001b[0m\u001b[1;33m:\u001b[0m\u001b[1;33m\u001b[0m\u001b[0m\n\u001b[0m\u001b[1;32m      6\u001b[0m     \u001b[0mprint\u001b[0m\u001b[1;33m(\u001b[0m\u001b[1;34m'x is positive'\u001b[0m\u001b[1;33m)\u001b[0m\u001b[1;33m\u001b[0m\u001b[0m\n\u001b[1;32m      7\u001b[0m \u001b[1;32melif\u001b[0m \u001b[0mx\u001b[0m \u001b[1;33m==\u001b[0m \u001b[1;36m0\u001b[0m\u001b[1;33m:\u001b[0m\u001b[1;33m\u001b[0m\u001b[0m\n",
      "\u001b[0;31mTypeError\u001b[0m: unorderable types: str() > int()"
     ]
    }
   ],
   "source": [
    "# Find out if X is positve, negative or zero, taking x as raw input \n",
    "\n",
    "x = input(\"What is x?\")\n",
    "\n",
    "if x > 0:\n",
    "    print('x is positive')\n",
    "elif x == 0:\n",
    "    print ('x is zero')\n",
    "else:\n",
    "    print('x is negative')\n"
   ]
  },
  {
   "cell_type": "markdown",
   "metadata": {},
   "source": [
    "In the previous example, the raw input that we are taking is in string format. So first we have to convert it into integer so that we can perform numerical operations."
   ]
  },
  {
   "cell_type": "code",
   "execution_count": 6,
   "metadata": {},
   "outputs": [
    {
     "name": "stdout",
     "output_type": "stream",
     "text": [
      "What is x?5\n",
      "x is positive\n"
     ]
    }
   ],
   "source": [
    "# Find out if X is positve, negative or zero, taking x as raw input \n",
    "\n",
    "x = int(input(\"What is x?\"))\n",
    "\n",
    "if x > 0:\n",
    "    print('x is positive')\n",
    "elif x == 0:\n",
    "    print ('x is zero')\n",
    "else:\n",
    "    print('x is negative')"
   ]
  },
  {
   "cell_type": "code",
   "execution_count": 10,
   "metadata": {},
   "outputs": [
    {
     "name": "stdout",
     "output_type": "stream",
     "text": [
      "Input number 1 \n",
      "5\n",
      "Input number 2 \n",
      "6\n",
      "n2=6 is maximum\n"
     ]
    }
   ],
   "source": [
    "#Finding maximum between 2 numbers:\n",
    "\n",
    "n1 = int(input(\"Input number 1 \\n\"))\n",
    "n2 = int(input(\"Input number 2 \\n\"))\n",
    "\n",
    "\n",
    "if n1 > n2:\n",
    "    print ('n1=%d is maximum' %n1)\n",
    "elif n1 < n2:\n",
    "    print ('n2=%d is maximum' %n2)\n",
    "else:\n",
    "    print('Both numbers are equal')\n",
    "    "
   ]
  },
  {
   "cell_type": "code",
   "execution_count": 3,
   "metadata": {},
   "outputs": [
    {
     "name": "stdout",
     "output_type": "stream",
     "text": [
      "Input number 1 \n",
      "5\n",
      "Input number 2 \n",
      "6\n",
      "Input number 3 \n",
      "4\n",
      "6 is maximum\n"
     ]
    }
   ],
   "source": [
    "# equality between 3 numbers\n",
    "\n",
    "n1 = int(input(\"Input number 1 \\n\"))\n",
    "n2 = int(input(\"Input number 2 \\n\"))\n",
    "n3 = int(input(\"Input number 3 \\n\"))\n",
    "\n",
    "\n",
    "if n1 >= n2 and n1 >= n3:\n",
    "    print ('%d is maximum' % n1)\n",
    "elif n2 >= n1 and n2 >= n3:\n",
    "    print ('%d is maximum' % n2)\n",
    "elif n3 >= n1 and n3 >= n2:\n",
    "    print ('%d is maximum' % n3)\n",
    "    \n",
    "#if n1 >= n2 & n1 >= n3 will also work"
   ]
  },
  {
   "cell_type": "markdown",
   "metadata": {},
   "source": [
    "## for Loops"
   ]
  },
  {
   "cell_type": "raw",
   "metadata": {},
   "source": [
    "for item in object:\n",
    "    statement for to do stuff"
   ]
  },
  {
   "cell_type": "code",
   "execution_count": 25,
   "metadata": {},
   "outputs": [
    {
     "name": "stdout",
     "output_type": "stream",
     "text": [
      "1\n",
      "2\n",
      "3\n",
      "4\n",
      "5\n"
     ]
    }
   ],
   "source": [
    "num_list = [1,2,3,4,5]\n",
    "\n",
    "for num in num_list:\n",
    "    print (num)"
   ]
  },
  {
   "cell_type": "code",
   "execution_count": 26,
   "metadata": {},
   "outputs": [
    {
     "name": "stdout",
     "output_type": "stream",
     "text": [
      "1\n",
      "whats up?\n",
      "2\n",
      "whats up?\n",
      "3\n",
      "whats up?\n",
      "4\n",
      "whats up?\n",
      "5\n",
      "whats up?\n"
     ]
    }
   ],
   "source": [
    "num_list = [1,2,3,4,5]\n",
    "\n",
    "for x in num_list:\n",
    "    print (x)\n",
    "    print ('whats up?')"
   ]
  },
  {
   "cell_type": "code",
   "execution_count": 28,
   "metadata": {},
   "outputs": [
    {
     "name": "stdout",
     "output_type": "stream",
     "text": [
      "1 is odd\n",
      "2 is even\n",
      "3 is odd\n",
      "4 is even\n",
      "5 is odd\n",
      "6 is even\n",
      "7 is odd\n",
      "8 is even\n",
      "9 is odd\n",
      "10 is even\n"
     ]
    }
   ],
   "source": [
    "#Finding number is odd or even\n",
    "\n",
    "odd_even = [1,2,3,4,5,6,7,8,9,10]\n",
    "for num in odd_even:\n",
    "    if num % 2 == 0:\n",
    "        print ('%d is even' %num)\n",
    "    elif num % 2 == 1:\n",
    "        print ('%d is odd' %num)"
   ]
  },
  {
   "cell_type": "code",
   "execution_count": 44,
   "metadata": {},
   "outputs": [
    {
     "name": "stdout",
     "output_type": "stream",
     "text": [
      "7 7 7 7 7 7 7 \n",
      "5 5 5 5 5 \n",
      "4 4 4 4 \n",
      "10 10 10 10 10 10 10 10 10 10 \n",
      "5 5 5 5 5 \n"
     ]
    }
   ],
   "source": [
    "# For each number in the list below, print it the same number of times as its value. For e.g print 5, five times \n",
    "\n",
    "num_list = [7,5,4,10,5]\n",
    "\n",
    "for num in num_list:\n",
    "    j = num\n",
    "    for i in range(0,j):\n",
    "        print(num, end=' ')\n",
    "    print()\n",
    "    \n",
    "# Mind what 'in range' is doing here"
   ]
  },
  {
   "cell_type": "raw",
   "metadata": {},
   "source": [
    "range(0,5) is 0,1,2,3,4"
   ]
  },
  {
   "cell_type": "code",
   "execution_count": 3,
   "metadata": {},
   "outputs": [
    {
     "name": "stdout",
     "output_type": "stream",
     "text": [
      "0\n",
      "1\n",
      "2\n",
      "3\n",
      "4\n",
      "5\n",
      "6\n",
      "7\n",
      "8\n",
      "9\n"
     ]
    }
   ],
   "source": [
    "#print first n integers:\n",
    "n = 10\n",
    "\n",
    "for i in range(0,10):\n",
    "    print (i)"
   ]
  },
  {
   "cell_type": "code",
   "execution_count": 4,
   "metadata": {},
   "outputs": [
    {
     "name": "stdout",
     "output_type": "stream",
     "text": [
      "0\n",
      "2\n",
      "4\n",
      "6\n",
      "8\n"
     ]
    }
   ],
   "source": [
    "n = 10\n",
    "\n",
    "for i in range (0,10,2):\n",
    "    print (i)"
   ]
  },
  {
   "cell_type": "code",
   "execution_count": 5,
   "metadata": {},
   "outputs": [
    {
     "name": "stdout",
     "output_type": "stream",
     "text": [
      "1\n",
      "2\n",
      "3\n",
      "4\n",
      "5\n",
      "6\n",
      "7\n",
      "8\n",
      "9\n",
      "10\n"
     ]
    }
   ],
   "source": [
    "#Print first n integers starting from 1:\n",
    "n = 10\n",
    "for i in range (0,10):\n",
    "    print(i+1)"
   ]
  },
  {
   "cell_type": "code",
   "execution_count": 6,
   "metadata": {},
   "outputs": [
    {
     "name": "stdout",
     "output_type": "stream",
     "text": [
      "55\n"
     ]
    }
   ],
   "source": [
    "#Print sum of first n integers:\n",
    "n = 10\n",
    "sum = 0\n",
    "for i in range(0,n):\n",
    "    sum = sum + (i+1)\n",
    "    \n",
    "print(sum)"
   ]
  },
  {
   "cell_type": "code",
   "execution_count": 3,
   "metadata": {},
   "outputs": [
    {
     "name": "stdout",
     "output_type": "stream",
     "text": [
      "[1]\n",
      "[1, 1]\n",
      "[1, 1, 1]\n",
      "[1, 1, 1, 1]\n"
     ]
    }
   ],
   "source": [
    "#Create a triangle which will print no of 1,s equal to the row number \n",
    "\n",
    "n = 4\n",
    "\n",
    "for i in range(0,n):\n",
    "    list1 = [1]\n",
    "    list1 = list1 * (i+1)\n",
    "    print (list1)"
   ]
  },
  {
   "cell_type": "code",
   "execution_count": 10,
   "metadata": {},
   "outputs": [
    {
     "name": "stdout",
     "output_type": "stream",
     "text": [
      "\n",
      " Output for number 2:Fuzz\n",
      " Output for number 3:Buzz\n",
      " Output for number 4:Fuzz\n",
      " Output for number 5:\n",
      " Output for number 6:FuzzBuzz\n",
      " Output for number 8:Fuzz\n",
      " Output for number 9:Buzz\n",
      " Output for number 11:\n",
      " Output for number 12:FuzzBuzz"
     ]
    }
   ],
   "source": [
    "\"\"\"The FuzzBuzz Problem. From a given list, if a number is divisible by 2 print 'Fuzz', if its divisible by 3 print 'Buzz',\n",
    "if its divisible by 6 print 'FuzzBuzz' and if it is not divisible by 2 and 3 print nothing\"\"\"\n",
    "\n",
    "list1 = [2,3,4,5,6,8,9,11,12]\n",
    "\n",
    "for num in list1:\n",
    "    print ('\\n Output for number %d:' %num, end='')\n",
    "    if num%2 == 0:\n",
    "        print('Fuzz', end='')\n",
    "    if num%3 == 0:\n",
    "        print('Buzz',end='')"
   ]
  },
  {
   "cell_type": "markdown",
   "metadata": {
    "collapsed": true
   },
   "source": [
    "## while Statement"
   ]
  },
  {
   "cell_type": "code",
   "execution_count": 2,
   "metadata": {},
   "outputs": [
    {
     "name": "stdout",
     "output_type": "stream",
     "text": [
      "The current value of x is 0\n",
      "The current value of x is 1\n",
      "The current value of x is 2\n",
      "The current value of x is 3\n",
      "The current value of x is 4\n",
      "The current value of x is 5\n",
      "The current value of x is 6\n",
      "The current value of x is 7\n",
      "The current value of x is 8\n",
      "The current value of x is 9\n",
      "The current value of x is 10\n"
     ]
    }
   ],
   "source": [
    "x = 0\n",
    "\n",
    "while x <=10:\n",
    "    print ('The current value of x is %d' %x )\n",
    "    x = x+1\n",
    "    "
   ]
  },
  {
   "cell_type": "code",
   "execution_count": 3,
   "metadata": {},
   "outputs": [
    {
     "name": "stdout",
     "output_type": "stream",
     "text": [
      "The current value of x is 0\n",
      "The current value of x is 1\n",
      "The current value of x is 2\n",
      "The current value of x is 3\n",
      "The current value of x is 4\n",
      "The current value of x is 5\n",
      "The current value of x is 6\n",
      "The current value of x is 7\n",
      "The current value of x is 8\n",
      "The current value of x is 9\n",
      "The current value of x is 10\n",
      "While loop successfully executed\n"
     ]
    }
   ],
   "source": [
    "x = 0\n",
    "\n",
    "while x <=10:\n",
    "    print ('The current value of x is %d' %x )\n",
    "    x = x+1\n",
    "else:\n",
    "    print ('While loop successfully executed')"
   ]
  },
  {
   "cell_type": "code",
   "execution_count": 4,
   "metadata": {},
   "outputs": [
    {
     "name": "stdout",
     "output_type": "stream",
     "text": [
      "Value of x is 1\n",
      "1 is not divisible by 5\n",
      "Value of x is 2\n",
      "2 is not divisible by 5\n",
      "Value of x is 3\n",
      "3 is not divisible by 5\n",
      "Value of x is 4\n",
      "4 is not divisible by 5\n",
      "Value of x is 5\n",
      "Whoa! 5 divisible by 5\n",
      "Value of x is 6\n",
      "6 is not divisible by 5\n",
      "Value of x is 7\n",
      "7 is not divisible by 5\n",
      "Value of x is 8\n",
      "8 is not divisible by 5\n",
      "Value of x is 9\n",
      "9 is not divisible by 5\n",
      "Value of x is 10\n",
      "Whoa! 10 divisible by 5\n"
     ]
    }
   ],
   "source": [
    "# Print from 1 to 10 & let the user know when its divisible by 5 or not\n",
    "\n",
    "x = 1\n",
    "while x <=10:\n",
    "    print ('Value of x is %d' %x)\n",
    "    \n",
    "    if x % 5 == 0:\n",
    "        print ('Whoa! %d divisible by 5' %x)\n",
    "    else:\n",
    "        print ('%d is not divisible by 5' %x)\n",
    "        \n",
    "    x = x + 1"
   ]
  },
  {
   "cell_type": "code",
   "execution_count": 12,
   "metadata": {},
   "outputs": [
    {
     "name": "stdout",
     "output_type": "stream",
     "text": [
      "The value of x is 0\n",
      "Continuing\n",
      "The value of x is 1\n",
      "Continuing\n",
      "The value of x is 2\n",
      "Continuing\n",
      "The value of x is 3\n",
      "Continuing\n",
      "The value of x is 4\n",
      "The first x divisbel by 5 is 5\n"
     ]
    }
   ],
   "source": [
    "# Start printing from 1 till the the number occues which \n",
    "#is divisible by 5 or its less than 10\n",
    "x = 0\n",
    "    \n",
    "while x <= 10:\n",
    "    print ('The value of x is %d' %x)\n",
    "    x = x + 1\n",
    "    \n",
    "    if x % 5 ==0:\n",
    "        print ('The first x divisbel by 5 is %d' %x)\n",
    "        break\n",
    "    else:\n",
    "        print ('Continuing')\n",
    "        continue \n",
    "    \n",
    "    "
   ]
  }
 ],
 "metadata": {
  "anaconda-cloud": {},
  "kernelspec": {
   "display_name": "Python 3",
   "language": "python",
   "name": "python3"
  },
  "language_info": {
   "codemirror_mode": {
    "name": "ipython",
    "version": 3
   },
   "file_extension": ".py",
   "mimetype": "text/x-python",
   "name": "python",
   "nbconvert_exporter": "python",
   "pygments_lexer": "ipython3",
   "version": "3.6.2"
  }
 },
 "nbformat": 4,
 "nbformat_minor": 2
}
