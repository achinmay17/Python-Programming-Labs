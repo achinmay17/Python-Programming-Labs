{
 "cells": [
  {
   "cell_type": "markdown",
   "metadata": {},
   "source": [
    "#### Question 1"
   ]
  },
  {
   "cell_type": "code",
   "execution_count": 1,
   "metadata": {},
   "outputs": [
    {
     "name": "stdout",
     "output_type": "stream",
     "text": [
      "Whats your string12345678\n",
      "1278\n"
     ]
    }
   ],
   "source": [
    "\n",
    "s = str(input('Whats your string'))\n",
    "\n",
    "length = len(s)\n",
    "\n",
    "if length < 4:\n",
    "    print('String less than 4 characters')\n",
    "else:\n",
    "    out = s[:2] + s[length-2:]\n",
    "    print(out)"
   ]
  },
  {
   "cell_type": "markdown",
   "metadata": {},
   "source": [
    "#### Question 2"
   ]
  },
  {
   "cell_type": "code",
   "execution_count": 24,
   "metadata": {},
   "outputs": [
    {
     "name": "stdout",
     "output_type": "stream",
     "text": [
      "Input the string you want to reverse12345678\n",
      "87654321\n"
     ]
    }
   ],
   "source": [
    "# Question 2\n",
    "\n",
    "s = str(input(\"Input the string you want to reverse\"))\n",
    "out = \"\"\n",
    "l = len(s)\n",
    "\n",
    "if l <=5:\n",
    "    print('String has less than 5 characters')\n",
    "else:\n",
    "    for i in range(l-1,-1,-1):\n",
    "        out = out + s[i]\n",
    "    print(out)"
   ]
  },
  {
   "cell_type": "markdown",
   "metadata": {},
   "source": [
    "#### Question 3"
   ]
  },
  {
   "cell_type": "code",
   "execution_count": 27,
   "metadata": {},
   "outputs": [
    {
     "name": "stdout",
     "output_type": "stream",
     "text": [
      "Input the string123456\n",
      "623451\n"
     ]
    }
   ],
   "source": [
    "# Question 3\n",
    "\n",
    "s = str(input(\"Input the string\"))\n",
    "\n",
    "l = len(s)\n",
    "\n",
    "out = s[l-1]\n",
    "\n",
    "for i in range(1,l-1):\n",
    "    out = out + s[i]\n",
    "    \n",
    "out = out + s[0]\n",
    "\n",
    "print(out)"
   ]
  },
  {
   "cell_type": "markdown",
   "metadata": {},
   "source": [
    "#### Question 4"
   ]
  },
  {
   "cell_type": "code",
   "execution_count": 35,
   "metadata": {},
   "outputs": [
    {
     "name": "stdout",
     "output_type": "stream",
     "text": [
      "28\n"
     ]
    }
   ],
   "source": [
    "# Question 4\n",
    "\n",
    "n1 = [1,2,3,4,5,6,7]\n",
    "\n",
    "l = len(l)\n",
    "\n",
    "out = 0\n",
    "\n",
    "for i in range(0,l):\n",
    "    out = out + l[i]\n",
    "    \n",
    "print(out)"
   ]
  },
  {
   "cell_type": "markdown",
   "metadata": {},
   "source": [
    "#### Question 5 - Method 1"
   ]
  },
  {
   "cell_type": "code",
   "execution_count": 2,
   "metadata": {},
   "outputs": [
    {
     "name": "stdout",
     "output_type": "stream",
     "text": [
      "Largest number is 9 and it is appearing 3 times in list\n"
     ]
    }
   ],
   "source": [
    "# Question 5\n",
    "\n",
    "n1 = [1,2,4,5,6,7,1,2,3,5,7,5,6,7,5,3,5,3,2,5,0,9,7,9,9,7,5,4,3]\n",
    "\n",
    "#Using Inbuilt Functions\n",
    "maxl = max(n1) \n",
    "minl = min(n1)\n",
    "maxl_freq = n1.count(maxl)\n",
    "if maxl_freq > 1:\n",
    "    print ('Largest number is %d and it is appearing %d times in list'%(maxl,maxl_freq))\n",
    "\n"
   ]
  },
  {
   "cell_type": "markdown",
   "metadata": {},
   "source": [
    "#### Question 5 - method 2"
   ]
  },
  {
   "cell_type": "code",
   "execution_count": 6,
   "metadata": {},
   "outputs": [
    {
     "name": "stdout",
     "output_type": "stream",
     "text": [
      "Largest number is 9 and it is appearing 3 times in list\n"
     ]
    }
   ],
   "source": [
    "# Question 5, method 2 witout using inbuild fucntions \n",
    "\n",
    "n1 = [1,2,4,5,6,7,1,2,3,5,7,5,6,7,5,3,5,3,2,5,0,9,7,9,9,7,5,4,3]\n",
    "\n",
    "l = len(n1)\n",
    "\n",
    "maxl = n1[0]\n",
    "minl = n1[0]\n",
    "\n",
    "max_freq = 0\n",
    "\n",
    "for i in n1:\n",
    "    if i < minl:\n",
    "        minl = i\n",
    "    elif i > maxl:\n",
    "        max_freq = 0\n",
    "        maxl = i\n",
    "    elif i == maxl:\n",
    "        max_freq = max_freq + 1\n",
    "        \n",
    "print ('Largest number is %d and it is appearing %d times in list'%(maxl,maxl_freq))"
   ]
  },
  {
   "cell_type": "markdown",
   "metadata": {
    "collapsed": true
   },
   "source": [
    "#### Question 6"
   ]
  },
  {
   "cell_type": "code",
   "execution_count": 3,
   "metadata": {},
   "outputs": [
    {
     "name": "stdout",
     "output_type": "stream",
     "text": [
      "[1, 2, 3, 4, 5, 6]\n"
     ]
    }
   ],
   "source": [
    "list1 = [1,2,3,4,5,6,1,2,3,6,4,3,5,3,2]\n",
    "\n",
    "s = []\n",
    "for i in list1:\n",
    "    if i not in s:\n",
    "        s.append(i)\n",
    "        \n",
    "print(s)"
   ]
  },
  {
   "cell_type": "markdown",
   "metadata": {},
   "source": [
    "#### Question 7"
   ]
  },
  {
   "cell_type": "code",
   "execution_count": 32,
   "metadata": {},
   "outputs": [
    {
     "name": "stdout",
     "output_type": "stream",
     "text": [
      "{1: 10, 2: 20, 3: 30, 4: 40, 5: 50, 6: 60}\n"
     ]
    }
   ],
   "source": [
    "d1 = {1:10, 2:20} \n",
    "d2 = {3:30, 4:40} \n",
    "d3 = {5:50,6:60}\n",
    "\n",
    "# This is new method in Python 3.5 and above whihc is very useful \n",
    "dict_n = {**d1, **d2, **d3}\n",
    "\n",
    "print(dict_n)"
   ]
  },
  {
   "cell_type": "markdown",
   "metadata": {},
   "source": [
    "#### Question 8"
   ]
  },
  {
   "cell_type": "code",
   "execution_count": 38,
   "metadata": {},
   "outputs": [
    {
     "name": "stdout",
     "output_type": "stream",
     "text": [
      "70\n",
      "10\n"
     ]
    }
   ],
   "source": [
    "d1 = {1: 10, 2: 20, 3: 30, 4: 40, 5: 50, 6: 60, 7:60, 8:50, 9:40, 10: 30, 11: 20, 12:10, 13: 70}\n",
    "\n",
    "print(max(d1.values()))\n",
    "print(min(d1.values()))"
   ]
  },
  {
   "cell_type": "markdown",
   "metadata": {},
   "source": [
    "#### Question 9"
   ]
  },
  {
   "cell_type": "code",
   "execution_count": 43,
   "metadata": {},
   "outputs": [
    {
     "name": "stdout",
     "output_type": "stream",
     "text": [
      "dict_keys([10, 20, 30, 40, 50, 60, 70])\n"
     ]
    }
   ],
   "source": [
    "d1 = {1: 10, 2: 20, 3: 30, 4: 40, 5: 50, 6: 60, 7:60, 8:50, 9:40, 10: 30, 11: 20, 12:10, 13: 70}\n",
    "\n",
    "dict1 = {}\n",
    "\n",
    "for k,v in d1.items():\n",
    "    if v in dict1:\n",
    "        dict1[v] = dict1[v] + 1\n",
    "    else:\n",
    "        dict1[v] = 1\n",
    "\n",
    "# dict1 is a dictionary with value and their frequency in d1\n",
    "\n",
    "print(dict1.keys())\n",
    "        "
   ]
  },
  {
   "cell_type": "code",
   "execution_count": null,
   "metadata": {
    "collapsed": true
   },
   "outputs": [],
   "source": []
  }
 ],
 "metadata": {
  "kernelspec": {
   "display_name": "Python 3",
   "language": "python",
   "name": "python3"
  },
  "language_info": {
   "codemirror_mode": {
    "name": "ipython",
    "version": 3
   },
   "file_extension": ".py",
   "mimetype": "text/x-python",
   "name": "python",
   "nbconvert_exporter": "python",
   "pygments_lexer": "ipython3",
   "version": "3.6.2"
  }
 },
 "nbformat": 4,
 "nbformat_minor": 2
}
